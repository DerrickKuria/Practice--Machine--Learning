{
  "nbformat": 4,
  "nbformat_minor": 0,
  "metadata": {
    "colab": {
      "name": "Columns to numericals.ipynb",
      "provenance": []
    },
    "kernelspec": {
      "name": "python3",
      "display_name": "Python 3"
    }
  },
  "cells": [
    {
      "cell_type": "code",
      "metadata": {
        "id": "2ZMpBfzQkdST",
        "colab_type": "code",
        "colab": {}
      },
      "source": [
        "# We first convert numerical features to integers\n",
        "\n",
        "columns = ['column_1','column_2','column_3','column_4','Column_5']\n",
        "\n",
        "# We will use Lable encoder to convert our numerical values to integers\n",
        "\n",
        "from sklearn.preprocessing import LabelEncoder\n",
        "le = LabelEncoder()\n",
        "\n",
        "for i, j in enumerate(columns):\n",
        "  df[j] = le.fit_transform(df[j])\n",
        "\n",
        "print(df.shape)\n",
        "df.head()"
      ],
      "execution_count": 0,
      "outputs": []
    }
  ]
}