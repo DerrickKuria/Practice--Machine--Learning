{
  "nbformat": 4,
  "nbformat_minor": 0,
  "metadata": {
    "colab": {
      "name": "Converting structured data to categorical data.ipynb",
      "provenance": []
    },
    "kernelspec": {
      "name": "python3",
      "display_name": "Python 3"
    }
  },
  "cells": [
    {
      "cell_type": "markdown",
      "metadata": {
        "id": "nDHzlqUquhX3",
        "colab_type": "text"
      },
      "source": [
        "Preliminaries"
      ]
    },
    {
      "cell_type": "code",
      "metadata": {
        "id": "3HTaRlK1tNe_",
        "colab_type": "code",
        "colab": {}
      },
      "source": [
        "# Import required packages\n",
        "from sklearn import preprocessing\n",
        "import pandas as pd"
      ],
      "execution_count": 2,
      "outputs": []
    },
    {
      "cell_type": "markdown",
      "metadata": {
        "id": "gAYo6bK_4IcE",
        "colab_type": "text"
      },
      "source": [
        "## **Create DataFrame**"
      ]
    },
    {
      "cell_type": "code",
      "metadata": {
        "id": "lEgD6m_M4Q-H",
        "colab_type": "code",
        "colab": {}
      },
      "source": [
        "raw_data = {'patient': [1, 1, 1, 2, 2],\n",
        "        'obs': [1, 2, 3, 1, 2],\n",
        "        'treatment': [0, 1, 0, 1, 0],\n",
        "        'score': ['strong', 'weak', 'normal', 'weak', 'strong']}\n",
        "df = pd.DataFrame(raw_data, columns = ['patient', 'obs', 'treatment', 'score'])\n"
      ],
      "execution_count": 3,
      "outputs": []
    },
    {
      "cell_type": "markdown",
      "metadata": {
        "id": "pXFClR2W4oZG",
        "colab_type": "text"
      },
      "source": [
        "# **Fit The Label Encoder**"
      ]
    },
    {
      "cell_type": "code",
      "metadata": {
        "id": "dKNSxtPi4tn6",
        "colab_type": "code",
        "colab": {}
      },
      "source": [
        "# Create a label (category) encoder object\n",
        "le = preprocessing.LabelEncoder()"
      ],
      "execution_count": 4,
      "outputs": []
    },
    {
      "cell_type": "code",
      "metadata": {
        "id": "bJzvc-7O43rO",
        "colab_type": "code",
        "colab": {
          "base_uri": "https://localhost:8080/",
          "height": 34
        },
        "outputId": "89a8ae08-99fb-42ce-9cd4-ed789ebd5fc2"
      },
      "source": [
        "# Fit the encoder to the pandas column\n",
        "le.fit(df['score'])"
      ],
      "execution_count": 5,
      "outputs": [
        {
          "output_type": "execute_result",
          "data": {
            "text/plain": [
              "LabelEncoder()"
            ]
          },
          "metadata": {
            "tags": []
          },
          "execution_count": 5
        }
      ]
    },
    {
      "cell_type": "markdown",
      "metadata": {
        "id": "qIs8rasG4_vW",
        "colab_type": "text"
      },
      "source": [
        "# **View The Labels**"
      ]
    },
    {
      "cell_type": "code",
      "metadata": {
        "id": "jJsMfUUw5Dv2",
        "colab_type": "code",
        "colab": {
          "base_uri": "https://localhost:8080/",
          "height": 34
        },
        "outputId": "8fc2dcd2-c1c0-4211-e2ae-4b029a99903a"
      },
      "source": [
        "# View the labels\n",
        "list(le.classes_)"
      ],
      "execution_count": 6,
      "outputs": [
        {
          "output_type": "execute_result",
          "data": {
            "text/plain": [
              "['normal', 'strong', 'weak']"
            ]
          },
          "metadata": {
            "tags": []
          },
          "execution_count": 6
        }
      ]
    },
    {
      "cell_type": "markdown",
      "metadata": {
        "id": "aApb3Qva5W7h",
        "colab_type": "text"
      },
      "source": [
        "# **Transform Categories Into Integers**"
      ]
    },
    {
      "cell_type": "code",
      "metadata": {
        "id": "E0AmKIp75a_T",
        "colab_type": "code",
        "colab": {
          "base_uri": "https://localhost:8080/",
          "height": 34
        },
        "outputId": "0c36c304-9dee-4427-a8b8-d9f2f4da6a27"
      },
      "source": [
        "# Apply the fitted encoder to the pandas column\n",
        "le.transform(df['score']) "
      ],
      "execution_count": 7,
      "outputs": [
        {
          "output_type": "execute_result",
          "data": {
            "text/plain": [
              "array([1, 2, 0, 2, 1])"
            ]
          },
          "metadata": {
            "tags": []
          },
          "execution_count": 7
        }
      ]
    },
    {
      "cell_type": "markdown",
      "metadata": {
        "id": "nVd4iTkM6NRh",
        "colab_type": "text"
      },
      "source": [
        "# **Transform Integers Into Categories**"
      ]
    },
    {
      "cell_type": "code",
      "metadata": {
        "id": "zq492GWL6ZUZ",
        "colab_type": "code",
        "colab": {}
      },
      "source": [
        "\n",
        "# Convert some integers into their category names\n",
        "list(le.inverse_transform([2, 2, 1]))"
      ],
      "execution_count": null,
      "outputs": []
    },
    {
      "cell_type": "code",
      "metadata": {
        "id": "BiHfIUJt6v8O",
        "colab_type": "code",
        "colab": {}
      },
      "source": [
        ""
      ],
      "execution_count": null,
      "outputs": []
    }
  ]
}