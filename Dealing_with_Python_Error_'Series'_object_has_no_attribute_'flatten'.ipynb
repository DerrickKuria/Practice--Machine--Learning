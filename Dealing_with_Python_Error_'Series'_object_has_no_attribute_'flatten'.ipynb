{
  "nbformat": 4,
  "nbformat_minor": 0,
  "metadata": {
    "colab": {
      "name": "Dealing with Python Error: 'Series' object has no attribute 'flatten'.ipynb",
      "provenance": []
    },
    "kernelspec": {
      "name": "python3",
      "display_name": "Python 3"
    }
  },
  "cells": [
    {
      "cell_type": "code",
      "metadata": {
        "id": "8GLPEsjzC8XS",
        "colab_type": "code",
        "colab": {}
      },
      "source": [
        "import numpy as np\n",
        "y_test = np.array(list(y_test))\n",
        "y_pred = np.array(y_pred)\n",
        "\n",
        "comparison_Dataframe  = pd.DataFrame({'Actual': y_test.flatten(), 'Predicted': y_pred.flatten()})\n",
        "comparison_Dataframe.describe()"
      ],
      "execution_count": 0,
      "outputs": []
    }
  ]
}