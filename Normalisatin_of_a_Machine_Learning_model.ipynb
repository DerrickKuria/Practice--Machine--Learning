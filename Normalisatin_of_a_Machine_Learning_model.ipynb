{
  "nbformat": 4,
  "nbformat_minor": 0,
  "metadata": {
    "colab": {
      "name": "Normalisatin of  a Machine Learning model.ipynb",
      "provenance": []
    },
    "kernelspec": {
      "name": "python3",
      "display_name": "Python 3"
    }
  },
  "cells": [
    {
      "cell_type": "code",
      "metadata": {
        "id": "odozSqPvl8xI",
        "colab_type": "code",
        "colab": {}
      },
      "source": [
        "##Compiled by Chris Albon"
      ],
      "execution_count": null,
      "outputs": []
    },
    {
      "cell_type": "markdown",
      "metadata": {
        "id": "nuKASQYDlViu",
        "colab_type": "text"
      },
      "source": [
        "![alt text](https://chrisalbon.com/images/machine_learning_flashcards/Normalizing_Observations_print.png)"
      ]
    },
    {
      "cell_type": "markdown",
      "metadata": {
        "id": "kHI6tTTVlpmY",
        "colab_type": "text"
      },
      "source": [
        "## **Preliminaries**"
      ]
    },
    {
      "cell_type": "code",
      "metadata": {
        "id": "bJ69ByPdlBPE",
        "colab_type": "code",
        "colab": {}
      },
      "source": [
        "# Load libraries\n",
        "from sklearn.preprocessing import Normalizer\n",
        "import numpy as np"
      ],
      "execution_count": 4,
      "outputs": []
    },
    {
      "cell_type": "code",
      "metadata": {
        "id": "HofdVgNdmH_X",
        "colab_type": "code",
        "colab": {}
      },
      "source": [
        "# Create feature matrix\n",
        "X = np.array([[0.5, 0.5], \n",
        "              [1.1, 3.4], \n",
        "              [1.5, 20.2], \n",
        "              [1.63, 65.4], \n",
        "              [10.9, 3.3]])"
      ],
      "execution_count": 7,
      "outputs": []
    },
    {
      "cell_type": "markdown",
      "metadata": {
        "id": "oblUC8iimOX8",
        "colab_type": "text"
      },
      "source": [
        "# **Normalize Observations**\n",
        "\n",
        "Normalizer rescales the values on individual observations to have unit norm (the sum of their lengths is one)."
      ]
    },
    {
      "cell_type": "code",
      "metadata": {
        "id": "-4Jwmze8mT2x",
        "colab_type": "code",
        "colab": {
          "base_uri": "https://localhost:8080/",
          "height": 102
        },
        "outputId": "bd1c9b13-29ac-4179-eab6-78bde3b61e0e"
      },
      "source": [
        "# Create normalizer\n",
        "normalizer = Normalizer(norm='l2')\n",
        "\n",
        "# Transform feature matrix\n",
        "normalizer.transform(X)"
      ],
      "execution_count": 8,
      "outputs": [
        {
          "output_type": "execute_result",
          "data": {
            "text/plain": [
              "array([[0.70710678, 0.70710678],\n",
              "       [0.30782029, 0.95144452],\n",
              "       [0.07405353, 0.99725427],\n",
              "       [0.02491581, 0.99968955],\n",
              "       [0.95709822, 0.28976368]])"
            ]
          },
          "metadata": {
            "tags": []
          },
          "execution_count": 8
        }
      ]
    }
  ]
}