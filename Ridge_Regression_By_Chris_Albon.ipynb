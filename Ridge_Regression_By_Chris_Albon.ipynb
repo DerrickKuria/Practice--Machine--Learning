{
  "nbformat": 4,
  "nbformat_minor": 0,
  "metadata": {
    "colab": {
      "name": "Ridge_Regression_By_Chris_Albon.ipynb",
      "provenance": []
    },
    "kernelspec": {
      "name": "python3",
      "display_name": "Python 3"
    }
  },
  "cells": [
    {
      "cell_type": "code",
      "metadata": {
        "id": "ryAvwkpdTWmX",
        "colab_type": "code",
        "colab": {
          "base_uri": "https://localhost:8080/",
          "height": 71
        },
        "outputId": "d2d5b694-7dcb-4232-c940-0be4d88ca496"
      },
      "source": [
        "import pandas as pd\n",
        "import numpy as np\n",
        "import matplotlib.pyplot as plt\n",
        "import seaborn as sns"
      ],
      "execution_count": 3,
      "outputs": [
        {
          "output_type": "stream",
          "text": [
            "/usr/local/lib/python3.6/dist-packages/statsmodels/tools/_testing.py:19: FutureWarning: pandas.util.testing is deprecated. Use the functions in the public API at pandas.testing instead.\n",
            "  import pandas.util.testing as tm\n"
          ],
          "name": "stderr"
        }
      ]
    },
    {
      "cell_type": "code",
      "metadata": {
        "id": "8ZuYqRsRT2Up",
        "colab_type": "code",
        "colab": {}
      },
      "source": [
        "from sklearn.linear_model import Ridge\n",
        "from sklearn.datasets import load_boston\n",
        "from sklearn.preprocessing import StandardScaler"
      ],
      "execution_count": 0,
      "outputs": []
    },
    {
      "cell_type": "markdown",
      "metadata": {
        "id": "sqNPIJWMUbFb",
        "colab_type": "text"
      },
      "source": [
        "Load the Boston Dataset"
      ]
    },
    {
      "cell_type": "code",
      "metadata": {
        "id": "_a3dYWNAUeME",
        "colab_type": "code",
        "colab": {}
      },
      "source": [
        "boston = load_boston()"
      ],
      "execution_count": 0,
      "outputs": []
    },
    {
      "cell_type": "code",
      "metadata": {
        "id": "8s4tVW5zVOhZ",
        "colab_type": "code",
        "colab": {}
      },
      "source": [
        "X = boston.data\n",
        "y = boston.target"
      ],
      "execution_count": 0,
      "outputs": []
    },
    {
      "cell_type": "markdown",
      "metadata": {
        "id": "lfOy_p0BVUTG",
        "colab_type": "text"
      },
      "source": [
        "Standardise the features"
      ]
    },
    {
      "cell_type": "code",
      "metadata": {
        "id": "zdIMGX0DVOdB",
        "colab_type": "code",
        "colab": {}
      },
      "source": [
        "scaler = StandardScaler()\n",
        "X_std = scaler.fit_transform(X)"
      ],
      "execution_count": 0,
      "outputs": []
    },
    {
      "cell_type": "markdown",
      "metadata": {
        "id": "3LWGN3gEVtxx",
        "colab_type": "text"
      },
      "source": [
        "Fit Ridge Regression\n",
        "The hyperparameter, \n",
        "α\n",
        ", lets us control how much we penalize the coefficients, with higher values of \n",
        "α\n",
        " creating simpler modelers. The ideal value of \n",
        "α\n",
        " should be tuned like any other hyperparameter. In scikit-learn, \n",
        "α\n",
        " is set using the alpha parameter"
      ]
    },
    {
      "cell_type": "code",
      "metadata": {
        "id": "C3HzlW_vVven",
        "colab_type": "code",
        "colab": {}
      },
      "source": [
        "# Create ridge regression with an alpha value\n",
        "regr = Ridge(alpha=0.5)\n",
        "\n",
        "# Fit the linear regression\n",
        "model = regr.fit(X_std, y)"
      ],
      "execution_count": 0,
      "outputs": []
    }
  ]
}