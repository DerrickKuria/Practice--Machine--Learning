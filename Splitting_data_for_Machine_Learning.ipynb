{
  "nbformat": 4,
  "nbformat_minor": 0,
  "metadata": {
    "colab": {
      "name": "Splitting data for Machine Learning.ipynb",
      "provenance": [],
      "collapsed_sections": [],
      "toc_visible": true,
      "authorship_tag": "ABX9TyNjOoqbLjJdzwqHzUPNl5At",
      "include_colab_link": true
    },
    "kernelspec": {
      "name": "python3",
      "display_name": "Python 3"
    }
  },
  "cells": [
    {
      "cell_type": "markdown",
      "metadata": {
        "id": "view-in-github",
        "colab_type": "text"
      },
      "source": [
        "<a href=\"https://colab.research.google.com/github/DerrickKuria/Practice--Machine--Learning/blob/master/Splitting_data_for_Machine_Learning.ipynb\" target=\"_parent\"><img src=\"https://colab.research.google.com/assets/colab-badge.svg\" alt=\"Open In Colab\"/></a>"
      ]
    },
    {
      "cell_type": "markdown",
      "metadata": {
        "id": "w9y5hNFoRKdQ"
      },
      "source": [
        "#Splitting Machine Learning Data"
      ]
    },
    {
      "cell_type": "markdown",
      "metadata": {
        "id": "c2GKtuTeQk56"
      },
      "source": [
        "Using data to predict how students will perform in their National exams  using the mock exams , we will explore how to split data in the correct way and make it ready for Machine Learning."
      ]
    },
    {
      "cell_type": "markdown",
      "metadata": {
        "id": "CLHCN2VdSPJv"
      },
      "source": [
        " We need split the dataset into training and test datasets so that we can train the model to predict our desired outcome."
      ]
    },
    {
      "cell_type": "markdown",
      "metadata": {
        "id": "aZKKzYi-SZ28"
      },
      "source": [
        "The dataset we are going to use will comprise of 1000 students exam data from both public and private schools in Kenya. 50% of this data is from public school and the other 50% is from private schools. We need to maintain this proportion when creating our sample dataset."
      ]
    },
    {
      "cell_type": "markdown",
      "metadata": {
        "id": "N7-cMBBEShmc"
      },
      "source": [
        "[Download Dataset](https://drive.google.com/file/d/12OGVlkFkLwycegmG5zkdDfzoxCJ3qU_k/view?usp=sharing)"
      ]
    },
    {
      "cell_type": "markdown",
      "metadata": {
        "id": "SVXwmroORkKJ"
      },
      "source": [
        "First we will load the data and the required libraries.\r\n"
      ]
    },
    {
      "cell_type": "code",
      "metadata": {
        "id": "gqM5ERaLRsO_"
      },
      "source": [
        "import pandas as pd\r\n",
        "import numpy as np"
      ],
      "execution_count": 14,
      "outputs": []
    },
    {
      "cell_type": "code",
      "metadata": {
        "colab": {
          "base_uri": "https://localhost:8080/",
          "height": 202
        },
        "id": "P7V4eNmaR2xC",
        "outputId": "3ee0e800-374b-4f9f-c973-03aac82e74bc"
      },
      "source": [
        "#Load the data\r\n",
        "school = pd.read_csv(\"/content/student_exam_data.csv\")\r\n",
        "#inspect the first 5 items in the data\r\n",
        "school.head()"
      ],
      "execution_count": 15,
      "outputs": [
        {
          "output_type": "execute_result",
          "data": {
            "text/html": [
              "<div>\n",
              "<style scoped>\n",
              "    .dataframe tbody tr th:only-of-type {\n",
              "        vertical-align: middle;\n",
              "    }\n",
              "\n",
              "    .dataframe tbody tr th {\n",
              "        vertical-align: top;\n",
              "    }\n",
              "\n",
              "    .dataframe thead th {\n",
              "        text-align: right;\n",
              "    }\n",
              "</style>\n",
              "<table border=\"1\" class=\"dataframe\">\n",
              "  <thead>\n",
              "    <tr style=\"text-align: right;\">\n",
              "      <th></th>\n",
              "      <th>mock_result</th>\n",
              "      <th>school_type</th>\n",
              "      <th>national_result</th>\n",
              "    </tr>\n",
              "  </thead>\n",
              "  <tbody>\n",
              "    <tr>\n",
              "      <th>0</th>\n",
              "      <td>27</td>\n",
              "      <td>PUBLIC</td>\n",
              "      <td>55</td>\n",
              "    </tr>\n",
              "    <tr>\n",
              "      <th>1</th>\n",
              "      <td>60</td>\n",
              "      <td>PRIVATE</td>\n",
              "      <td>35</td>\n",
              "    </tr>\n",
              "    <tr>\n",
              "      <th>2</th>\n",
              "      <td>57</td>\n",
              "      <td>PUBLIC</td>\n",
              "      <td>39</td>\n",
              "    </tr>\n",
              "    <tr>\n",
              "      <th>3</th>\n",
              "      <td>52</td>\n",
              "      <td>PUBLIC</td>\n",
              "      <td>39</td>\n",
              "    </tr>\n",
              "    <tr>\n",
              "      <th>4</th>\n",
              "      <td>44</td>\n",
              "      <td>PUBLIC</td>\n",
              "      <td>63</td>\n",
              "    </tr>\n",
              "  </tbody>\n",
              "</table>\n",
              "</div>"
            ],
            "text/plain": [
              "   mock_result school_type  national_result\n",
              "0           27      PUBLIC               55\n",
              "1           60     PRIVATE               35\n",
              "2           57      PUBLIC               39\n",
              "3           52      PUBLIC               39\n",
              "4           44      PUBLIC               63"
            ]
          },
          "metadata": {
            "tags": []
          },
          "execution_count": 15
        }
      ]
    },
    {
      "cell_type": "markdown",
      "metadata": {
        "id": "kYfsNcgzSrAy"
      },
      "source": [
        "There are two recommended meethods to achieve this.\r\n",
        "\r\n",
        "\r\n",
        "1.   Using the group By Function\r\n",
        "2.   Using the Scikit-Learn Library\r\n",
        "\r\n"
      ]
    },
    {
      "cell_type": "markdown",
      "metadata": {
        "id": "dnI7KxyfRSg4"
      },
      "source": [
        "##1.Using Stratified Technique"
      ]
    },
    {
      "cell_type": "markdown",
      "metadata": {
        "id": "z1l4f8VqTcE-"
      },
      "source": [
        " Using the Stratified technique we want to split the dataset in such a way that 70% of our dataset will be \r\n",
        "train set\r\n",
        "and 30% will be test set. Furthermore, the proportion of public and private schools should be equal in both\r\n",
        " the train and test dataset. For example, in train dataset we should have 350 public schools and 350 private schools represented. The same goes for the test dataset, we expect to have 150 private schools and 150 private schools."
      ]
    },
    {
      "cell_type": "code",
      "metadata": {
        "id": "d1M_7TA6QZQy"
      },
      "source": [
        "# Stratified train sample\r\n",
        "train_dataset = school.groupby('school_type', group_keys=False).apply(lambda grouped_subset : \r\n",
        "                                                                         grouped_subset.sample(frac=0.7))"
      ],
      "execution_count": 16,
      "outputs": []
    },
    {
      "cell_type": "code",
      "metadata": {
        "colab": {
          "base_uri": "https://localhost:8080/",
          "height": 415
        },
        "id": "x8DDZOX1UD1P",
        "outputId": "ebcadd07-bdb4-4a3c-ea65-fe9a2f13f420"
      },
      "source": [
        "# inspect the stratified train dataset\r\n",
        "train_dataset"
      ],
      "execution_count": 17,
      "outputs": [
        {
          "output_type": "execute_result",
          "data": {
            "text/html": [
              "<div>\n",
              "<style scoped>\n",
              "    .dataframe tbody tr th:only-of-type {\n",
              "        vertical-align: middle;\n",
              "    }\n",
              "\n",
              "    .dataframe tbody tr th {\n",
              "        vertical-align: top;\n",
              "    }\n",
              "\n",
              "    .dataframe thead th {\n",
              "        text-align: right;\n",
              "    }\n",
              "</style>\n",
              "<table border=\"1\" class=\"dataframe\">\n",
              "  <thead>\n",
              "    <tr style=\"text-align: right;\">\n",
              "      <th></th>\n",
              "      <th>mock_result</th>\n",
              "      <th>school_type</th>\n",
              "      <th>national_result</th>\n",
              "    </tr>\n",
              "  </thead>\n",
              "  <tbody>\n",
              "    <tr>\n",
              "      <th>967</th>\n",
              "      <td>45</td>\n",
              "      <td>PRIVATE</td>\n",
              "      <td>60</td>\n",
              "    </tr>\n",
              "    <tr>\n",
              "      <th>971</th>\n",
              "      <td>64</td>\n",
              "      <td>PRIVATE</td>\n",
              "      <td>61</td>\n",
              "    </tr>\n",
              "    <tr>\n",
              "      <th>441</th>\n",
              "      <td>62</td>\n",
              "      <td>PRIVATE</td>\n",
              "      <td>68</td>\n",
              "    </tr>\n",
              "    <tr>\n",
              "      <th>835</th>\n",
              "      <td>55</td>\n",
              "      <td>PRIVATE</td>\n",
              "      <td>49</td>\n",
              "    </tr>\n",
              "    <tr>\n",
              "      <th>798</th>\n",
              "      <td>50</td>\n",
              "      <td>PRIVATE</td>\n",
              "      <td>65</td>\n",
              "    </tr>\n",
              "    <tr>\n",
              "      <th>...</th>\n",
              "      <td>...</td>\n",
              "      <td>...</td>\n",
              "      <td>...</td>\n",
              "    </tr>\n",
              "    <tr>\n",
              "      <th>389</th>\n",
              "      <td>61</td>\n",
              "      <td>PUBLIC</td>\n",
              "      <td>43</td>\n",
              "    </tr>\n",
              "    <tr>\n",
              "      <th>101</th>\n",
              "      <td>61</td>\n",
              "      <td>PUBLIC</td>\n",
              "      <td>39</td>\n",
              "    </tr>\n",
              "    <tr>\n",
              "      <th>320</th>\n",
              "      <td>67</td>\n",
              "      <td>PUBLIC</td>\n",
              "      <td>47</td>\n",
              "    </tr>\n",
              "    <tr>\n",
              "      <th>321</th>\n",
              "      <td>55</td>\n",
              "      <td>PUBLIC</td>\n",
              "      <td>57</td>\n",
              "    </tr>\n",
              "    <tr>\n",
              "      <th>334</th>\n",
              "      <td>44</td>\n",
              "      <td>PUBLIC</td>\n",
              "      <td>55</td>\n",
              "    </tr>\n",
              "  </tbody>\n",
              "</table>\n",
              "<p>700 rows × 3 columns</p>\n",
              "</div>"
            ],
            "text/plain": [
              "     mock_result school_type  national_result\n",
              "967           45     PRIVATE               60\n",
              "971           64     PRIVATE               61\n",
              "441           62     PRIVATE               68\n",
              "835           55     PRIVATE               49\n",
              "798           50     PRIVATE               65\n",
              "..           ...         ...              ...\n",
              "389           61      PUBLIC               43\n",
              "101           61      PUBLIC               39\n",
              "320           67      PUBLIC               47\n",
              "321           55      PUBLIC               57\n",
              "334           44      PUBLIC               55\n",
              "\n",
              "[700 rows x 3 columns]"
            ]
          },
          "metadata": {
            "tags": []
          },
          "execution_count": 17
        }
      ]
    },
    {
      "cell_type": "code",
      "metadata": {
        "colab": {
          "base_uri": "https://localhost:8080/"
        },
        "id": "4GDXMtrJUMaq",
        "outputId": "0c60f82a-9e4c-47e4-e112-2c821e1d7fde"
      },
      "source": [
        "train_dataset.shape"
      ],
      "execution_count": 18,
      "outputs": [
        {
          "output_type": "execute_result",
          "data": {
            "text/plain": [
              "(700, 3)"
            ]
          },
          "metadata": {
            "tags": []
          },
          "execution_count": 18
        }
      ]
    },
    {
      "cell_type": "markdown",
      "metadata": {
        "id": "5vbuSBAfURP9"
      },
      "source": [
        "As we can see, our training set now has 700 columns."
      ]
    },
    {
      "cell_type": "markdown",
      "metadata": {
        "id": "KUz6BeqyUjcZ"
      },
      "source": [
        "Now we will check on the test set. We can just use the drop function to take upon the data dropped from the train set."
      ]
    },
    {
      "cell_type": "code",
      "metadata": {
        "colab": {
          "base_uri": "https://localhost:8080/",
          "height": 415
        },
        "id": "w11eWLPMUWjz",
        "outputId": "a5472193-df02-451c-8d84-44af38c2df1c"
      },
      "source": [
        "# Stratified test sample\r\n",
        "test_dataset = school.drop(train_dataset.index)\r\n",
        "\r\n",
        "# Preview the stratified test dataset\r\n",
        "test_dataset"
      ],
      "execution_count": 19,
      "outputs": [
        {
          "output_type": "execute_result",
          "data": {
            "text/html": [
              "<div>\n",
              "<style scoped>\n",
              "    .dataframe tbody tr th:only-of-type {\n",
              "        vertical-align: middle;\n",
              "    }\n",
              "\n",
              "    .dataframe tbody tr th {\n",
              "        vertical-align: top;\n",
              "    }\n",
              "\n",
              "    .dataframe thead th {\n",
              "        text-align: right;\n",
              "    }\n",
              "</style>\n",
              "<table border=\"1\" class=\"dataframe\">\n",
              "  <thead>\n",
              "    <tr style=\"text-align: right;\">\n",
              "      <th></th>\n",
              "      <th>mock_result</th>\n",
              "      <th>school_type</th>\n",
              "      <th>national_result</th>\n",
              "    </tr>\n",
              "  </thead>\n",
              "  <tbody>\n",
              "    <tr>\n",
              "      <th>4</th>\n",
              "      <td>44</td>\n",
              "      <td>PUBLIC</td>\n",
              "      <td>63</td>\n",
              "    </tr>\n",
              "    <tr>\n",
              "      <th>6</th>\n",
              "      <td>40</td>\n",
              "      <td>PUBLIC</td>\n",
              "      <td>43</td>\n",
              "    </tr>\n",
              "    <tr>\n",
              "      <th>7</th>\n",
              "      <td>45</td>\n",
              "      <td>PUBLIC</td>\n",
              "      <td>47</td>\n",
              "    </tr>\n",
              "    <tr>\n",
              "      <th>8</th>\n",
              "      <td>43</td>\n",
              "      <td>PUBLIC</td>\n",
              "      <td>83</td>\n",
              "    </tr>\n",
              "    <tr>\n",
              "      <th>12</th>\n",
              "      <td>62</td>\n",
              "      <td>PRIVATE</td>\n",
              "      <td>18</td>\n",
              "    </tr>\n",
              "    <tr>\n",
              "      <th>...</th>\n",
              "      <td>...</td>\n",
              "      <td>...</td>\n",
              "      <td>...</td>\n",
              "    </tr>\n",
              "    <tr>\n",
              "      <th>990</th>\n",
              "      <td>50</td>\n",
              "      <td>PRIVATE</td>\n",
              "      <td>63</td>\n",
              "    </tr>\n",
              "    <tr>\n",
              "      <th>992</th>\n",
              "      <td>71</td>\n",
              "      <td>PRIVATE</td>\n",
              "      <td>68</td>\n",
              "    </tr>\n",
              "    <tr>\n",
              "      <th>994</th>\n",
              "      <td>18</td>\n",
              "      <td>PRIVATE</td>\n",
              "      <td>70</td>\n",
              "    </tr>\n",
              "    <tr>\n",
              "      <th>997</th>\n",
              "      <td>30</td>\n",
              "      <td>PRIVATE</td>\n",
              "      <td>41</td>\n",
              "    </tr>\n",
              "    <tr>\n",
              "      <th>998</th>\n",
              "      <td>66</td>\n",
              "      <td>PRIVATE</td>\n",
              "      <td>63</td>\n",
              "    </tr>\n",
              "  </tbody>\n",
              "</table>\n",
              "<p>300 rows × 3 columns</p>\n",
              "</div>"
            ],
            "text/plain": [
              "     mock_result school_type  national_result\n",
              "4             44      PUBLIC               63\n",
              "6             40      PUBLIC               43\n",
              "7             45      PUBLIC               47\n",
              "8             43      PUBLIC               83\n",
              "12            62     PRIVATE               18\n",
              "..           ...         ...              ...\n",
              "990           50     PRIVATE               63\n",
              "992           71     PRIVATE               68\n",
              "994           18     PRIVATE               70\n",
              "997           30     PRIVATE               41\n",
              "998           66     PRIVATE               63\n",
              "\n",
              "[300 rows x 3 columns]"
            ]
          },
          "metadata": {
            "tags": []
          },
          "execution_count": 19
        }
      ]
    },
    {
      "cell_type": "code",
      "metadata": {
        "colab": {
          "base_uri": "https://localhost:8080/"
        },
        "id": "XuIgVsZhYhSd",
        "outputId": "8e5f6146-d3b3-476a-b6e6-f9ce2a379bb6"
      },
      "source": [
        "# Print out the proprortion of private vs public schools in both train and test dataset\r\n",
        "test_count=test_dataset['school_type'].value_counts()\r\n",
        "train_count=train_dataset['school_type'].value_counts()\r\n",
        "\r\n",
        "print(train_count)\r\n",
        "print('*************************************************')\r\n",
        "print(test_count)"
      ],
      "execution_count": 20,
      "outputs": [
        {
          "output_type": "stream",
          "text": [
            "PRIVATE    350\n",
            "PUBLIC     350\n",
            "Name: school_type, dtype: int64\n",
            "*************************************************\n",
            "PRIVATE    150\n",
            "PUBLIC     150\n",
            "Name: school_type, dtype: int64\n"
          ],
          "name": "stdout"
        }
      ]
    },
    {
      "cell_type": "markdown",
      "metadata": {
        "id": "tBtc07NvY50m"
      },
      "source": [
        "##2.Using Sklearn/Scikit-Learn"
      ]
    },
    {
      "cell_type": "markdown",
      "metadata": {
        "id": "9DlRH82eZXsX"
      },
      "source": [
        "Sklearn is a free software machine learning library for the Python programming language.\r\n",
        "\r\n",
        "It features various classification, regression and clustering algorithms including support vector machines, random forests, gradient boosting, k-means and DBSCAN, and is designed to interoperate with the Python numerical and scientific libraries NumPy and SciPy."
      ]
    },
    {
      "cell_type": "markdown",
      "metadata": {
        "id": "aUU3Wc-GZmMa"
      },
      "source": [
        "To split datasets we  will make use of the train_test_split method."
      ]
    },
    {
      "cell_type": "markdown",
      "metadata": {
        "id": "DzR7XKZcZ9Nt"
      },
      "source": [
        "To check the documentation of the Sklearn Train test split, click [here](https://scikit-learn.org/stable/modules/generated/sklearn.model_selection.train_test_split.html)"
      ]
    },
    {
      "cell_type": "code",
      "metadata": {
        "id": "5lN1I7lddKHU"
      },
      "source": [
        "#We have to import the train_test_split.\r\n",
        "from sklearn.model_selection import train_test_split"
      ],
      "execution_count": 23,
      "outputs": []
    },
    {
      "cell_type": "markdown",
      "metadata": {
        "id": "kfrKnWTXZvvm"
      },
      "source": [
        "\r\n",
        "\r\n",
        "```\r\n",
        "sklearn.model_selection.train_test_split(*arrays, test_size=None, train_size=None,\r\n",
        " random_state=None, shuffle=True, stratify=None)\r\n",
        "```\r\n",
        "\r\n"
      ]
    },
    {
      "cell_type": "markdown",
      "metadata": {
        "id": "1uWZbjI0bB9_"
      },
      "source": [
        "***test_size - float or int, default=None***\r\n",
        "\r\n",
        "For the test size it has to be a float between 0.0 and 1.0 and represent the proportion of the dataset to include in the test split.\r\n",
        "\r\n",
        "If int, represents the absolute number of test samples. If None, the value is set to the complement of the train size. If train_size is also None, it will be set to 0.25."
      ]
    },
    {
      "cell_type": "markdown",
      "metadata": {
        "id": "Ns8kaFrMbcT2"
      },
      "source": [
        "***train_size - float or int, default=None***\r\n",
        "\r\n",
        "If float, should be between 0.0 and 1.0 and represent the proportion of the dataset to include in the train split. If int, represents the absolute number of train samples. If None, the value is automatically set to the complement of the test size"
      ]
    },
    {
      "cell_type": "code",
      "metadata": {
        "id": "JBKP39_JY0jC"
      },
      "source": [
        ""
      ],
      "execution_count": 20,
      "outputs": []
    },
    {
      "cell_type": "markdown",
      "metadata": {
        "id": "6PBKuxUnb2_-"
      },
      "source": [
        "For our example ,we'll also use a third argument called stratify which will help us stratifiy the data once we split it."
      ]
    },
    {
      "cell_type": "markdown",
      "metadata": {
        "id": "VozdAZwycccq"
      },
      "source": [
        "From  the documentation,\r\n",
        "\r\n",
        "***stratifyarray-like, default=None***\r\n",
        "\r\n",
        "\r\n",
        "If not None, data is split in a stratified fashion, using this as the class labels"
      ]
    },
    {
      "cell_type": "code",
      "metadata": {
        "id": "EnU6UOezb-mv",
        "colab": {
          "base_uri": "https://localhost:8080/"
        },
        "outputId": "b2d176ba-7e62-4b12-95f7-0165e258a0f9"
      },
      "source": [
        "# Split our datset into train_data and test_data using sklearn's train_test_split method\r\n",
        "train_data, test_data = train_test_split(school, test_size=0.3,stratify=school['school_type'])\r\n",
        "\r\n",
        "# Preview the train dataset\r\n",
        "print(train_data)\r\n",
        "\r\n",
        "# Preview the test dataset\r\n",
        "print(test_data)\r\n",
        "\r\n",
        "# Print out the proprortion of private vs public schools in both train and test dataset\r\n",
        "train_data['school_type'].value_counts()\r\n",
        "\r\n",
        "test_data['school_type'].value_counts()\r\n",
        "\r\n",
        "print(train_count)\r\n",
        "print('*************************************************')\r\n",
        "print(test_count)"
      ],
      "execution_count": 25,
      "outputs": [
        {
          "output_type": "stream",
          "text": [
            "     mock_result school_type  national_result\n",
            "654           43      PUBLIC               58\n",
            "715           79     PRIVATE               59\n",
            "367           58      PUBLIC               71\n",
            "770           56      PUBLIC               48\n",
            "210           51      PUBLIC               49\n",
            "..           ...         ...              ...\n",
            "394           50      PUBLIC               54\n",
            "954           72     PRIVATE               53\n",
            "365           46      PUBLIC               45\n",
            "347           63      PUBLIC               56\n",
            "300           57      PUBLIC               52\n",
            "\n",
            "[700 rows x 3 columns]\n",
            "     mock_result school_type  national_result\n",
            "656           41     PRIVATE               65\n",
            "908           41     PRIVATE               72\n",
            "531           58      PUBLIC               78\n",
            "659           67      PUBLIC               71\n",
            "829           49     PRIVATE                3\n",
            "..           ...         ...              ...\n",
            "786           59     PRIVATE               62\n",
            "441           62     PRIVATE               68\n",
            "222           65      PUBLIC               80\n",
            "987            3     PRIVATE               64\n",
            "166           73      PUBLIC               62\n",
            "\n",
            "[300 rows x 3 columns]\n",
            "PRIVATE    350\n",
            "PUBLIC     350\n",
            "Name: school_type, dtype: int64\n",
            "*************************************************\n",
            "PRIVATE    150\n",
            "PUBLIC     150\n",
            "Name: school_type, dtype: int64\n"
          ],
          "name": "stdout"
        }
      ]
    },
    {
      "cell_type": "markdown",
      "metadata": {
        "id": "zUBMN8KZd7O_"
      },
      "source": [
        "The Sklearn is more recommended in the Data Science commiunity ."
      ]
    }
  ]
}